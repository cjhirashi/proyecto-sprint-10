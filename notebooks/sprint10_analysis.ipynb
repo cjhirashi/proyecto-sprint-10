{
 "cells": [
  {
   "cell_type": "markdown",
   "id": "fa28ef08",
   "metadata": {},
   "source": [
    "# 🏦 Sprint 10 — Predicción de Churn en Beta Bank\n",
    "\n",
    "**Objetivo del proyecto:**  \n",
    "Construir un modelo de Machine Learning para predecir la salida de clientes (**churn**) en **Beta Bank**, optimizando la métrica **F1 ≥ 0.59** y comparando con **AUC-ROC**.\n",
    "\n",
    "**Dataset utilizado:** `/datasets/Churn.csv`\n",
    "\n",
    "**Flujo de trabajo:**  \n",
    "EDA → Preprocesamiento → Partición de datos → Modelos base → Corrección de desbalance → Selección del mejor modelo → Evaluación en test → Conclusiones\n"
   ]
  },
  {
   "cell_type": "code",
   "execution_count": 1,
   "id": "709c6ea8",
   "metadata": {},
   "outputs": [
    {
     "name": "stdout",
     "output_type": "stream",
     "text": [
      "Python:        3.12.11\n",
      "Pandas:        2.3.2\n",
      "Numpy:         2.3.2\n",
      "Scikit-learn:  1.7.1\n",
      "Matplotlib:    3.10.5\n",
      "Seaborn:       0.13.2\n"
     ]
    }
   ],
   "source": [
    "# --- Configuración general ---\n",
    "import sys, warnings\n",
    "warnings.filterwarnings(\"ignore\")  # Oculta warnings para un output más limpio en el notebook\n",
    "\n",
    "# --- Librerías base de datos y números ---\n",
    "import numpy as np\n",
    "import pandas as pd\n",
    "\n",
    "# --- Visualización ---\n",
    "import matplotlib.pyplot as plt\n",
    "import seaborn as sns\n",
    "\n",
    "# --- Machine Learning (scikit-learn) ---\n",
    "import sklearn\n",
    "from sklearn import __version__ as skl_version\n",
    "\n",
    "# --- Verificación de versiones (sanity check) ---\n",
    "print(f\"Python:        {sys.version.split()[0]}\")\n",
    "print(f\"Pandas:        {pd.__version__}\")\n",
    "print(f\"Numpy:         {np.__version__}\")\n",
    "print(f\"Scikit-learn:  {skl_version}\")\n",
    "print(f\"Matplotlib:    {plt.matplotlib.__version__}\")\n",
    "print(f\"Seaborn:       {sns.__version__}\")\n",
    "\n",
    "# --- Estilo global de gráficos ---\n",
    "plt.rcParams[\"figure.figsize\"] = (8, 5)\n",
    "plt.rcParams[\"axes.grid\"] = True\n",
    "plt.rcParams[\"axes.titlesize\"] = 12\n",
    "plt.rcParams[\"axes.labelsize\"] = 11\n"
   ]
  },
  {
   "cell_type": "markdown",
   "id": "4390f288",
   "metadata": {},
   "source": [
    "### ✅ Conclusión Sección 0 — Encabezado y Configuración\n",
    "El entorno de trabajo se configuró correctamente y todas las librerías principales se cargaron sin errores. Las versiones instaladas son modernas y compatibles, lo que asegura una base sólida para el análisis de datos, el preprocesamiento, la visualización y el modelado que se desarrollará en este proyecto."
   ]
  },
  {
   "cell_type": "markdown",
   "id": "29433090",
   "metadata": {},
   "source": [
    "## 1 Carga del dataset y vista rápida\n",
    "\n",
    "En esta sección se carga el dataset proporcionado por Beta Bank y se realiza una primera exploración general.  \n",
    "El objetivo es revisar la estructura de los datos, la cantidad de registros disponibles y los tipos de variables que contiene.  \n",
    "De esta forma se obtiene una visión preliminar del conjunto de información con el que se trabajará."
   ]
  },
  {
   "cell_type": "code",
   "execution_count": 2,
   "id": "8c252ed8",
   "metadata": {},
   "outputs": [
    {
     "name": "stdout",
     "output_type": "stream",
     "text": [
      "Dimensiones del dataset (filas, columnas): (10000, 14)\n",
      "\n",
      "Primeras 5 filas:\n"
     ]
    },
    {
     "data": {
      "text/html": [
       "<div>\n",
       "<style scoped>\n",
       "    .dataframe tbody tr th:only-of-type {\n",
       "        vertical-align: middle;\n",
       "    }\n",
       "\n",
       "    .dataframe tbody tr th {\n",
       "        vertical-align: top;\n",
       "    }\n",
       "\n",
       "    .dataframe thead th {\n",
       "        text-align: right;\n",
       "    }\n",
       "</style>\n",
       "<table border=\"1\" class=\"dataframe\">\n",
       "  <thead>\n",
       "    <tr style=\"text-align: right;\">\n",
       "      <th></th>\n",
       "      <th>RowNumber</th>\n",
       "      <th>CustomerId</th>\n",
       "      <th>Surname</th>\n",
       "      <th>CreditScore</th>\n",
       "      <th>Geography</th>\n",
       "      <th>Gender</th>\n",
       "      <th>Age</th>\n",
       "      <th>Tenure</th>\n",
       "      <th>Balance</th>\n",
       "      <th>NumOfProducts</th>\n",
       "      <th>HasCrCard</th>\n",
       "      <th>IsActiveMember</th>\n",
       "      <th>EstimatedSalary</th>\n",
       "      <th>Exited</th>\n",
       "    </tr>\n",
       "  </thead>\n",
       "  <tbody>\n",
       "    <tr>\n",
       "      <th>0</th>\n",
       "      <td>1</td>\n",
       "      <td>15634602</td>\n",
       "      <td>Hargrave</td>\n",
       "      <td>619</td>\n",
       "      <td>France</td>\n",
       "      <td>Female</td>\n",
       "      <td>42</td>\n",
       "      <td>2.0</td>\n",
       "      <td>0.00</td>\n",
       "      <td>1</td>\n",
       "      <td>1</td>\n",
       "      <td>1</td>\n",
       "      <td>101348.88</td>\n",
       "      <td>1</td>\n",
       "    </tr>\n",
       "    <tr>\n",
       "      <th>1</th>\n",
       "      <td>2</td>\n",
       "      <td>15647311</td>\n",
       "      <td>Hill</td>\n",
       "      <td>608</td>\n",
       "      <td>Spain</td>\n",
       "      <td>Female</td>\n",
       "      <td>41</td>\n",
       "      <td>1.0</td>\n",
       "      <td>83807.86</td>\n",
       "      <td>1</td>\n",
       "      <td>0</td>\n",
       "      <td>1</td>\n",
       "      <td>112542.58</td>\n",
       "      <td>0</td>\n",
       "    </tr>\n",
       "    <tr>\n",
       "      <th>2</th>\n",
       "      <td>3</td>\n",
       "      <td>15619304</td>\n",
       "      <td>Onio</td>\n",
       "      <td>502</td>\n",
       "      <td>France</td>\n",
       "      <td>Female</td>\n",
       "      <td>42</td>\n",
       "      <td>8.0</td>\n",
       "      <td>159660.80</td>\n",
       "      <td>3</td>\n",
       "      <td>1</td>\n",
       "      <td>0</td>\n",
       "      <td>113931.57</td>\n",
       "      <td>1</td>\n",
       "    </tr>\n",
       "    <tr>\n",
       "      <th>3</th>\n",
       "      <td>4</td>\n",
       "      <td>15701354</td>\n",
       "      <td>Boni</td>\n",
       "      <td>699</td>\n",
       "      <td>France</td>\n",
       "      <td>Female</td>\n",
       "      <td>39</td>\n",
       "      <td>1.0</td>\n",
       "      <td>0.00</td>\n",
       "      <td>2</td>\n",
       "      <td>0</td>\n",
       "      <td>0</td>\n",
       "      <td>93826.63</td>\n",
       "      <td>0</td>\n",
       "    </tr>\n",
       "    <tr>\n",
       "      <th>4</th>\n",
       "      <td>5</td>\n",
       "      <td>15737888</td>\n",
       "      <td>Mitchell</td>\n",
       "      <td>850</td>\n",
       "      <td>Spain</td>\n",
       "      <td>Female</td>\n",
       "      <td>43</td>\n",
       "      <td>2.0</td>\n",
       "      <td>125510.82</td>\n",
       "      <td>1</td>\n",
       "      <td>1</td>\n",
       "      <td>1</td>\n",
       "      <td>79084.10</td>\n",
       "      <td>0</td>\n",
       "    </tr>\n",
       "  </tbody>\n",
       "</table>\n",
       "</div>"
      ],
      "text/plain": [
       "   RowNumber  CustomerId   Surname  CreditScore Geography  Gender  Age  \\\n",
       "0          1    15634602  Hargrave          619    France  Female   42   \n",
       "1          2    15647311      Hill          608     Spain  Female   41   \n",
       "2          3    15619304      Onio          502    France  Female   42   \n",
       "3          4    15701354      Boni          699    France  Female   39   \n",
       "4          5    15737888  Mitchell          850     Spain  Female   43   \n",
       "\n",
       "   Tenure    Balance  NumOfProducts  HasCrCard  IsActiveMember  \\\n",
       "0     2.0       0.00              1          1               1   \n",
       "1     1.0   83807.86              1          0               1   \n",
       "2     8.0  159660.80              3          1               0   \n",
       "3     1.0       0.00              2          0               0   \n",
       "4     2.0  125510.82              1          1               1   \n",
       "\n",
       "   EstimatedSalary  Exited  \n",
       "0        101348.88       1  \n",
       "1        112542.58       0  \n",
       "2        113931.57       1  \n",
       "3         93826.63       0  \n",
       "4         79084.10       0  "
      ]
     },
     "metadata": {},
     "output_type": "display_data"
    },
    {
     "name": "stdout",
     "output_type": "stream",
     "text": [
      "\n",
      "Información general del dataset:\n",
      "<class 'pandas.core.frame.DataFrame'>\n",
      "RangeIndex: 10000 entries, 0 to 9999\n",
      "Data columns (total 14 columns):\n",
      " #   Column           Non-Null Count  Dtype  \n",
      "---  ------           --------------  -----  \n",
      " 0   RowNumber        10000 non-null  int64  \n",
      " 1   CustomerId       10000 non-null  int64  \n",
      " 2   Surname          10000 non-null  object \n",
      " 3   CreditScore      10000 non-null  int64  \n",
      " 4   Geography        10000 non-null  object \n",
      " 5   Gender           10000 non-null  object \n",
      " 6   Age              10000 non-null  int64  \n",
      " 7   Tenure           9091 non-null   float64\n",
      " 8   Balance          10000 non-null  float64\n",
      " 9   NumOfProducts    10000 non-null  int64  \n",
      " 10  HasCrCard        10000 non-null  int64  \n",
      " 11  IsActiveMember   10000 non-null  int64  \n",
      " 12  EstimatedSalary  10000 non-null  float64\n",
      " 13  Exited           10000 non-null  int64  \n",
      "dtypes: float64(3), int64(8), object(3)\n",
      "memory usage: 1.1+ MB\n",
      "None\n"
     ]
    }
   ],
   "source": [
    "# Carga del dataset principal\n",
    "df = pd.read_csv(\"../datasets/Churn.csv\")\n",
    "\n",
    "# Revisión general de la estructura del dataset\n",
    "print(\"Dimensiones del dataset (filas, columnas):\", df.shape)\n",
    "print(\"\\nPrimeras 5 filas:\")\n",
    "display(df.head())\n",
    "\n",
    "print(\"\\nInformación general del dataset:\")\n",
    "print(df.info())"
   ]
  },
  {
   "cell_type": "markdown",
   "id": "67be2b61",
   "metadata": {},
   "source": [
    "### ✅ Conclusión Sección 1 — Carga del dataset y vista rápida\n",
    "El dataset proporcionado por Beta Bank contiene **10,000 registros** y **14 columnas**.  \n",
    "La información incluye variables demográficas (`Age`, `Gender`, `Geography`), financieras (`CreditScore`, `Balance`, `EstimatedSalary`), de comportamiento (`NumOfProducts`, `HasCrCard`, `IsActiveMember`, `Tenure`) y la variable objetivo (`Exited`).  \n",
    "No se identificaron valores nulos en ninguna de las columnas, lo que garantiza una base de datos completa y lista para el análisis."
   ]
  },
  {
   "cell_type": "markdown",
   "id": "3904b1d2",
   "metadata": {},
   "source": [
    "## 2 Calidad de datos y estadística descriptiva\n",
    "\n",
    "En esta sección se evalúa la calidad del dataset con el fin de identificar posibles problemas que puedan afectar el análisis y modelado.  \n",
    "Se revisa la existencia de registros duplicados, valores nulos y se calculan estadísticas descriptivas para las variables numéricas.  \n",
    "Esto permite obtener una visión inicial de los rangos, promedios y posibles valores atípicos presentes en los datos."
   ]
  },
  {
   "cell_type": "code",
   "execution_count": 3,
   "id": "e81566ea",
   "metadata": {},
   "outputs": [
    {
     "name": "stdout",
     "output_type": "stream",
     "text": [
      "Número de registros duplicados: 0\n",
      "\n",
      "Valores nulos por columna:\n",
      "RowNumber            0\n",
      "CustomerId           0\n",
      "Surname              0\n",
      "CreditScore          0\n",
      "Geography            0\n",
      "Gender               0\n",
      "Age                  0\n",
      "Tenure             909\n",
      "Balance              0\n",
      "NumOfProducts        0\n",
      "HasCrCard            0\n",
      "IsActiveMember       0\n",
      "EstimatedSalary      0\n",
      "Exited               0\n",
      "dtype: int64\n",
      "\n",
      "Estadísticas descriptivas:\n"
     ]
    },
    {
     "data": {
      "text/html": [
       "<div>\n",
       "<style scoped>\n",
       "    .dataframe tbody tr th:only-of-type {\n",
       "        vertical-align: middle;\n",
       "    }\n",
       "\n",
       "    .dataframe tbody tr th {\n",
       "        vertical-align: top;\n",
       "    }\n",
       "\n",
       "    .dataframe thead th {\n",
       "        text-align: right;\n",
       "    }\n",
       "</style>\n",
       "<table border=\"1\" class=\"dataframe\">\n",
       "  <thead>\n",
       "    <tr style=\"text-align: right;\">\n",
       "      <th></th>\n",
       "      <th>RowNumber</th>\n",
       "      <th>CustomerId</th>\n",
       "      <th>CreditScore</th>\n",
       "      <th>Age</th>\n",
       "      <th>Tenure</th>\n",
       "      <th>Balance</th>\n",
       "      <th>NumOfProducts</th>\n",
       "      <th>HasCrCard</th>\n",
       "      <th>IsActiveMember</th>\n",
       "      <th>EstimatedSalary</th>\n",
       "      <th>Exited</th>\n",
       "    </tr>\n",
       "  </thead>\n",
       "  <tbody>\n",
       "    <tr>\n",
       "      <th>count</th>\n",
       "      <td>10000.00000</td>\n",
       "      <td>1.000000e+04</td>\n",
       "      <td>10000.000000</td>\n",
       "      <td>10000.000000</td>\n",
       "      <td>9091.000000</td>\n",
       "      <td>10000.000000</td>\n",
       "      <td>10000.000000</td>\n",
       "      <td>10000.00000</td>\n",
       "      <td>10000.000000</td>\n",
       "      <td>10000.000000</td>\n",
       "      <td>10000.000000</td>\n",
       "    </tr>\n",
       "    <tr>\n",
       "      <th>mean</th>\n",
       "      <td>5000.50000</td>\n",
       "      <td>1.569094e+07</td>\n",
       "      <td>650.528800</td>\n",
       "      <td>38.921800</td>\n",
       "      <td>4.997690</td>\n",
       "      <td>76485.889288</td>\n",
       "      <td>1.530200</td>\n",
       "      <td>0.70550</td>\n",
       "      <td>0.515100</td>\n",
       "      <td>100090.239881</td>\n",
       "      <td>0.203700</td>\n",
       "    </tr>\n",
       "    <tr>\n",
       "      <th>std</th>\n",
       "      <td>2886.89568</td>\n",
       "      <td>7.193619e+04</td>\n",
       "      <td>96.653299</td>\n",
       "      <td>10.487806</td>\n",
       "      <td>2.894723</td>\n",
       "      <td>62397.405202</td>\n",
       "      <td>0.581654</td>\n",
       "      <td>0.45584</td>\n",
       "      <td>0.499797</td>\n",
       "      <td>57510.492818</td>\n",
       "      <td>0.402769</td>\n",
       "    </tr>\n",
       "    <tr>\n",
       "      <th>min</th>\n",
       "      <td>1.00000</td>\n",
       "      <td>1.556570e+07</td>\n",
       "      <td>350.000000</td>\n",
       "      <td>18.000000</td>\n",
       "      <td>0.000000</td>\n",
       "      <td>0.000000</td>\n",
       "      <td>1.000000</td>\n",
       "      <td>0.00000</td>\n",
       "      <td>0.000000</td>\n",
       "      <td>11.580000</td>\n",
       "      <td>0.000000</td>\n",
       "    </tr>\n",
       "    <tr>\n",
       "      <th>25%</th>\n",
       "      <td>2500.75000</td>\n",
       "      <td>1.562853e+07</td>\n",
       "      <td>584.000000</td>\n",
       "      <td>32.000000</td>\n",
       "      <td>2.000000</td>\n",
       "      <td>0.000000</td>\n",
       "      <td>1.000000</td>\n",
       "      <td>0.00000</td>\n",
       "      <td>0.000000</td>\n",
       "      <td>51002.110000</td>\n",
       "      <td>0.000000</td>\n",
       "    </tr>\n",
       "    <tr>\n",
       "      <th>50%</th>\n",
       "      <td>5000.50000</td>\n",
       "      <td>1.569074e+07</td>\n",
       "      <td>652.000000</td>\n",
       "      <td>37.000000</td>\n",
       "      <td>5.000000</td>\n",
       "      <td>97198.540000</td>\n",
       "      <td>1.000000</td>\n",
       "      <td>1.00000</td>\n",
       "      <td>1.000000</td>\n",
       "      <td>100193.915000</td>\n",
       "      <td>0.000000</td>\n",
       "    </tr>\n",
       "    <tr>\n",
       "      <th>75%</th>\n",
       "      <td>7500.25000</td>\n",
       "      <td>1.575323e+07</td>\n",
       "      <td>718.000000</td>\n",
       "      <td>44.000000</td>\n",
       "      <td>7.000000</td>\n",
       "      <td>127644.240000</td>\n",
       "      <td>2.000000</td>\n",
       "      <td>1.00000</td>\n",
       "      <td>1.000000</td>\n",
       "      <td>149388.247500</td>\n",
       "      <td>0.000000</td>\n",
       "    </tr>\n",
       "    <tr>\n",
       "      <th>max</th>\n",
       "      <td>10000.00000</td>\n",
       "      <td>1.581569e+07</td>\n",
       "      <td>850.000000</td>\n",
       "      <td>92.000000</td>\n",
       "      <td>10.000000</td>\n",
       "      <td>250898.090000</td>\n",
       "      <td>4.000000</td>\n",
       "      <td>1.00000</td>\n",
       "      <td>1.000000</td>\n",
       "      <td>199992.480000</td>\n",
       "      <td>1.000000</td>\n",
       "    </tr>\n",
       "  </tbody>\n",
       "</table>\n",
       "</div>"
      ],
      "text/plain": [
       "         RowNumber    CustomerId   CreditScore           Age       Tenure  \\\n",
       "count  10000.00000  1.000000e+04  10000.000000  10000.000000  9091.000000   \n",
       "mean    5000.50000  1.569094e+07    650.528800     38.921800     4.997690   \n",
       "std     2886.89568  7.193619e+04     96.653299     10.487806     2.894723   \n",
       "min        1.00000  1.556570e+07    350.000000     18.000000     0.000000   \n",
       "25%     2500.75000  1.562853e+07    584.000000     32.000000     2.000000   \n",
       "50%     5000.50000  1.569074e+07    652.000000     37.000000     5.000000   \n",
       "75%     7500.25000  1.575323e+07    718.000000     44.000000     7.000000   \n",
       "max    10000.00000  1.581569e+07    850.000000     92.000000    10.000000   \n",
       "\n",
       "             Balance  NumOfProducts    HasCrCard  IsActiveMember  \\\n",
       "count   10000.000000   10000.000000  10000.00000    10000.000000   \n",
       "mean    76485.889288       1.530200      0.70550        0.515100   \n",
       "std     62397.405202       0.581654      0.45584        0.499797   \n",
       "min         0.000000       1.000000      0.00000        0.000000   \n",
       "25%         0.000000       1.000000      0.00000        0.000000   \n",
       "50%     97198.540000       1.000000      1.00000        1.000000   \n",
       "75%    127644.240000       2.000000      1.00000        1.000000   \n",
       "max    250898.090000       4.000000      1.00000        1.000000   \n",
       "\n",
       "       EstimatedSalary        Exited  \n",
       "count     10000.000000  10000.000000  \n",
       "mean     100090.239881      0.203700  \n",
       "std       57510.492818      0.402769  \n",
       "min          11.580000      0.000000  \n",
       "25%       51002.110000      0.000000  \n",
       "50%      100193.915000      0.000000  \n",
       "75%      149388.247500      0.000000  \n",
       "max      199992.480000      1.000000  "
      ]
     },
     "metadata": {},
     "output_type": "display_data"
    }
   ],
   "source": [
    "# --- Revisión de duplicados ---\n",
    "duplicados = df.duplicated().sum()\n",
    "print(f\"Número de registros duplicados: {duplicados}\")\n",
    "\n",
    "# --- Revisión de valores nulos ---\n",
    "nulos = df.isnull().sum()\n",
    "print(\"\\nValores nulos por columna:\")\n",
    "print(nulos)\n",
    "\n",
    "# --- Estadísticas descriptivas de variables numéricas ---\n",
    "print(\"\\nEstadísticas descriptivas:\")\n",
    "display(df.describe())"
   ]
  },
  {
   "cell_type": "markdown",
   "id": "9bd4d9af",
   "metadata": {},
   "source": [
    "### ✅ Conclusión Sección 2 — Calidad de datos y estadística descriptiva\n",
    "La base de datos no presenta registros duplicados ni valores nulos en la mayoría de sus columnas, lo que indica un nivel adecuado de calidad.  \n",
    "La única excepción es la variable **Tenure**, con 909 valores faltantes, que deberán considerarse en el preprocesamiento.  \n",
    "\n",
    "En cuanto a las variables numéricas:  \n",
    "- El **puntaje de crédito** oscila entre 350 y 850, con media cercana a 651.  \n",
    "- La **edad** varía entre 18 y 92 años, con promedio de 39.  \n",
    "- El **saldo** de cuenta presenta valores desde 0 hasta aproximadamente 250,898 unidades monetarias.  \n",
    "- El **salario estimado** se distribuye de forma uniforme entre 11,580 y 199,992.  \n",
    "\n",
    "En general, los rangos y distribuciones son coherentes con datos de clientes bancarios, aunque existen posibles valores extremos en edad, balance y salario que se explorarán más adelante en el análisis exploratorio."
   ]
  },
  {
   "cell_type": "markdown",
   "id": "c1714a23",
   "metadata": {},
   "source": [
    "### 2.2 Tratamiento de valores nulos en `Tenure`\n",
    "\n",
    "La variable `Tenure` representa los años de relación del cliente con el banco (rango 0–10).  \n",
    "Se identificaron 909 valores nulos. Dado el significado del campo, se interpreta que la ausencia de valor corresponde a clientes con menos de un año de relación.  \n",
    "En consecuencia, los valores nulos se reemplazan por **0**, preservando la coherencia semántica de la variable y evitando la eliminación de registros."
   ]
  },
  {
   "cell_type": "code",
   "execution_count": 4,
   "id": "782a59a8",
   "metadata": {},
   "outputs": [
    {
     "name": "stdout",
     "output_type": "stream",
     "text": [
      "Nulos en Tenure antes: 909\n",
      "Nulos en Tenure después: 0\n",
      "Valores únicos en Tenure (muestra): [np.float64(0.0), np.float64(1.0), np.float64(2.0), np.float64(3.0), np.float64(4.0), np.float64(5.0), np.float64(6.0), np.float64(7.0), np.float64(8.0), np.float64(9.0), np.float64(10.0)]\n"
     ]
    }
   ],
   "source": [
    "# Conteo de nulos antes\n",
    "na_before = df[\"Tenure\"].isna().sum()\n",
    "\n",
    "# Reemplazo: clientes sin antigüedad registrada → asumimos Tenure = 0\n",
    "df[\"Tenure\"] = df[\"Tenure\"].fillna(0)\n",
    "\n",
    "# Verificación\n",
    "na_after = df[\"Tenure\"].isna().sum()\n",
    "print(f\"Nulos en Tenure antes: {na_before}\")\n",
    "print(f\"Nulos en Tenure después: {na_after}\")\n",
    "print(\"Valores únicos en Tenure (muestra):\", sorted(df[\"Tenure\"].unique())[:12])\n"
   ]
  },
  {
   "cell_type": "markdown",
   "id": "8ceec0f5",
   "metadata": {},
   "source": [
    "### ✅ Conclusión 2.2 — Tratamiento de nulos en `Tenure`\n",
    "Se reemplazaron **909** valores nulos en `Tenure` por **0**, asumiendo que corresponden a clientes con menos de un año de relación.  \n",
    "Tras el ajuste, `Tenure` no presenta valores faltantes y mantiene su rango esperado (0–10), quedando lista para su uso en el preprocesamiento y modelado."
   ]
  },
  {
   "cell_type": "markdown",
   "id": "33ff00e8",
   "metadata": {},
   "source": [
    "## 3 Análisis exploratorio de datos (EDA)\n",
    "\n",
    "En esta sección se exploran las distribuciones de las variables principales y su relación con la variable objetivo `Exited`.  \n",
    "El propósito es identificar patrones generales, detectar valores atípicos y comprender el grado de desbalance existente en el conjunto de datos.  \n",
    "Esto permitirá orientar la selección de técnicas de modelado y estrategias para corregir el desbalance en etapas posteriores."
   ]
  },
  {
   "cell_type": "markdown",
   "id": "7a254e17",
   "metadata": {},
   "source": [
    "### 3.1 Balance de clases (variable objetivo)\n",
    "\n",
    "Se analiza la distribución de la variable objetivo `Exited`, que indica si el cliente abandonó el banco (1) o permaneció (0).  \n",
    "El objetivo es identificar el grado de desbalance entre clases, lo cual impacta directamente en la elección de métricas y en las estrategias de modelado."
   ]
  },
  {
   "cell_type": "code",
   "execution_count": 5,
   "id": "18b50d97",
   "metadata": {},
   "outputs": [
    {
     "data": {
      "image/png": "[encoded data removed]",
      "text/plain": [
       "<Figure size 800x500 with 1 Axes>"
      ]
     },
     "metadata": {},
     "output_type": "display_data"
    }
   ],
   "source": [
    "# 3.1 Balance de clases (Exited)\n",
    "\n",
    "fig, ax = plt.subplots()\n",
    "sns.countplot(data=df, x=\"Exited\", ax=ax)\n",
    "ax.set_title(\"Distribución de la variable objetivo (Exited)\")\n",
    "ax.set_xlabel(\"Exited (0 = Permanece, 1 = Abandona)\")\n",
    "ax.set_ylabel(\"Número de clientes\")\n",
    "\n",
    "# Anotar conteos y porcentajes sobre las barras\n",
    "total = len(df)\n",
    "for p in ax.patches:\n",
    "    count = int(p.get_height())\n",
    "    ax.annotate(f\"{count} ({count/total:.1%})\",\n",
    "                (p.get_x() + p.get_width()/2, count),\n",
    "                ha=\"center\", va=\"bottom\", xytext=(0, 5),\n",
    "                textcoords=\"offset points\")\n",
    "\n",
    "plt.show()"
   ]
  },
  {
   "cell_type": "markdown",
   "id": "900b3a72",
   "metadata": {},
   "source": [
    "### ✅ Conclusión 3.1 — Balance de clases\n",
    "La variable objetivo `Exited` presenta un claro desbalance:  \n",
    "- El **79.6%** de los clientes permanecen en el banco (`Exited = 0`).  \n",
    "- El **20.4%** de los clientes abandonan el banco (`Exited = 1`).  \n",
    "\n",
    "Este desbalance implica que, si no se corrige, los modelos de machine learning tenderán a favorecer la clase mayoritaria, dificultando la detección de clientes en riesgo de abandono. Este hallazgo confirma la necesidad de aplicar técnicas de balanceo en las etapas de modelado."
   ]
  },
  {
   "cell_type": "markdown",
   "id": "f8a8117e",
   "metadata": {},
   "source": [
    "### 3.2 Distribuciones univariadas de variables numéricas\n",
    "\n",
    "En esta subsección se analizan las distribuciones de las variables numéricas principales:  \n",
    "- **CreditScore** (puntaje crediticio)  \n",
    "- **Age** (edad del cliente)  \n",
    "- **Balance** (saldo en cuenta)  \n",
    "- **EstimatedSalary** (salario estimado)  \n",
    "\n",
    "El objetivo es identificar tendencias generales, concentraciones de valores y posibles anomalías en cada variable de manera individual."
   ]
  },
  {
   "cell_type": "code",
   "execution_count": 6,
   "id": "40fe445c",
   "metadata": {},
   "outputs": [
    {
     "data": {
      "image/png": "[encoded data removed]",
      "text/plain": [
       "<Figure size 800x500 with 1 Axes>"
      ]
     },
     "metadata": {},
     "output_type": "display_data"
    }
   ],
   "source": [
    "# Distribución del puntaje de crédito\n",
    "sns.histplot(df[\"CreditScore\"], bins=30, kde=True, color=\"skyblue\")\n",
    "plt.title(\"Distribución del puntaje de crédito (CreditScore)\")\n",
    "plt.xlabel(\"CreditScore\")\n",
    "plt.ylabel(\"Número de clientes\")\n",
    "plt.show()"
   ]
  },
  {
   "cell_type": "markdown",
   "id": "6634ad11",
   "metadata": {},
   "source": [
    "### ✅ Conclusión 3.2.1 — Distribución del puntaje de crédito\n",
    "El puntaje de crédito de los clientes se concentra principalmente entre **500 y 750 puntos**, mostrando una distribución aproximadamente normal.  \n",
    "Existen pocos casos con valores extremos por debajo de 400 o por encima de 800, lo cual indica que la mayoría de los clientes tienen un perfil crediticio medio a alto.  \n",
    "Este comportamiento es coherente con lo esperado en una cartera bancaria estable."
   ]
  },
  {
   "cell_type": "code",
   "execution_count": 7,
   "id": "485f4285",
   "metadata": {},
   "outputs": [
    {
     "data": {
      "image/png": "[encoded data removed]",
      "text/plain": [
       "<Figure size 800x500 with 1 Axes>"
      ]
     },
     "metadata": {},
     "output_type": "display_data"
    }
   ],
   "source": [
    "# Distribución de la edad de los clientes\n",
    "sns.histplot(df[\"Age\"], bins=30, kde=True, color=\"lightgreen\")\n",
    "plt.title(\"Distribución de la edad de los clientes (Age)\")\n",
    "plt.xlabel(\"Edad\")\n",
    "plt.ylabel(\"Número de clientes\")\n",
    "plt.show()"
   ]
  },
  {
   "cell_type": "markdown",
   "id": "44c68c79",
   "metadata": {},
   "source": [
    "### ✅ Conclusión 3.2.2 — Distribución de la edad de los clientes\n",
    "La mayoría de los clientes tiene entre **30 y 45 años**, siendo este el rango de mayor concentración en la base de datos.  \n",
    "Se observa una disminución progresiva en la cantidad de clientes a partir de los 50 años, mientras que los registros por encima de los 70 son poco frecuentes.  \n",
    "Este comportamiento refleja una cartera dominada por adultos jóvenes y de mediana edad, con una menor representación de clientes mayores."
   ]
  },
  {
   "cell_type": "code",
   "execution_count": 8,
   "id": "12e22821",
   "metadata": {},
   "outputs": [
    {
     "data": {
      "image/png": "[encoded data removed]",
      "text/plain": [
       "<Figure size 800x500 with 1 Axes>"
      ]
     },
     "metadata": {},
     "output_type": "display_data"
    }
   ],
   "source": [
    "# Distribución del saldo en cuenta de los clientes\n",
    "sns.histplot(df[\"Balance\"], bins=30, kde=True, color=\"coral\")\n",
    "plt.title(\"Distribución del saldo en cuenta (Balance)\")\n",
    "plt.xlabel(\"Saldo\")\n",
    "plt.ylabel(\"Número de clientes\")\n",
    "plt.show()"
   ]
  },
  {
   "cell_type": "markdown",
   "id": "2eb33f6a",
   "metadata": {},
   "source": [
    "### ✅ Conclusión 3.2.3 — Distribución del saldo en cuenta\n",
    "El análisis del saldo en cuenta muestra dos comportamientos diferenciados:  \n",
    "- Un grupo importante de clientes, superior a **3,500 registros**, presenta saldo igual a **0**.  \n",
    "- El resto de los clientes mantiene saldos distribuidos entre **50,000 y 200,000 unidades monetarias**, con un pico de concentración en torno a los **120,000**.  \n",
    "\n",
    "Esta dualidad sugiere la existencia de perfiles distintos de clientes: aquellos que mantienen cuentas sin uso activo y aquellos con depósitos significativos."
   ]
  },
  {
   "cell_type": "code",
   "execution_count": 9,
   "id": "61a83079",
   "metadata": {},
   "outputs": [
    {
     "data": {
      "image/png": "[encoded data removed]",
      "text/plain": [
       "<Figure size 800x500 with 1 Axes>"
      ]
     },
     "metadata": {},
     "output_type": "display_data"
    }
   ],
   "source": [
    "# Distribución del salario estimado de los clientes\n",
    "sns.histplot(df[\"EstimatedSalary\"], bins=30, kde=True, color=\"steelblue\")\n",
    "plt.title(\"Distribución del salario estimado (EstimatedSalary)\")\n",
    "plt.xlabel(\"Salario estimado\")\n",
    "plt.ylabel(\"Número de clientes\")\n",
    "plt.show()"
   ]
  },
  {
   "cell_type": "markdown",
   "id": "a4da4554",
   "metadata": {},
   "source": [
    "### ✅ Conclusión 3.2.4 — Distribución del salario estimado\n",
    "El salario estimado de los clientes se encuentra distribuido de manera prácticamente uniforme entre **0 y 200,000 unidades monetarias**.  \n",
    "No se observan concentraciones significativas en rangos específicos, lo que indica que el salario no presenta sesgos hacia determinados niveles de ingreso dentro de la cartera de clientes."
   ]
  },
  {
   "cell_type": "markdown",
   "id": "0ef04905",
   "metadata": {},
   "source": [
    "### 3.3 Análisis de variables categóricas frente a la salida de clientes\n",
    "\n",
    "En esta subsección se estudia la relación entre variables categóricas clave y la variable objetivo `Exited`.  \n",
    "Se analizan las categorías de **Geography** (país de residencia) y **Gender** (género), evaluando las proporciones de clientes que permanecen o abandonan el banco en cada grupo.  \n",
    "El objetivo es identificar diferencias relevantes en el comportamiento de los clientes según su localización o género."
   ]
  },
  {
   "cell_type": "code",
   "execution_count": 10,
   "id": "fa26d7ca",
   "metadata": {},
   "outputs": [
    {
     "data": {
      "text/html": [
       "<div>\n",
       "<style scoped>\n",
       "    .dataframe tbody tr th:only-of-type {\n",
       "        vertical-align: middle;\n",
       "    }\n",
       "\n",
       "    .dataframe tbody tr th {\n",
       "        vertical-align: top;\n",
       "    }\n",
       "\n",
       "    .dataframe thead th {\n",
       "        text-align: right;\n",
       "    }\n",
       "</style>\n",
       "<table border=\"1\" class=\"dataframe\">\n",
       "  <thead>\n",
       "    <tr style=\"text-align: right;\">\n",
       "      <th>Exited</th>\n",
       "      <th>0</th>\n",
       "      <th>1</th>\n",
       "    </tr>\n",
       "    <tr>\n",
       "      <th>Geography</th>\n",
       "      <th></th>\n",
       "      <th></th>\n",
       "    </tr>\n",
       "  </thead>\n",
       "  <tbody>\n",
       "    <tr>\n",
       "      <th>France</th>\n",
       "      <td>83.845233</td>\n",
       "      <td>16.154767</td>\n",
       "    </tr>\n",
       "    <tr>\n",
       "      <th>Germany</th>\n",
       "      <td>67.556796</td>\n",
       "      <td>32.443204</td>\n",
       "    </tr>\n",
       "    <tr>\n",
       "      <th>Spain</th>\n",
       "      <td>83.326605</td>\n",
       "      <td>16.673395</td>\n",
       "    </tr>\n",
       "  </tbody>\n",
       "</table>\n",
       "</div>"
      ],
      "text/plain": [
       "Exited             0          1\n",
       "Geography                      \n",
       "France     83.845233  16.154767\n",
       "Germany    67.556796  32.443204\n",
       "Spain      83.326605  16.673395"
      ]
     },
     "metadata": {},
     "output_type": "display_data"
    },
    {
     "data": {
      "image/png": "[encoded data removed]",
      "text/plain": [
       "<Figure size 800x500 with 1 Axes>"
      ]
     },
     "metadata": {},
     "output_type": "display_data"
    }
   ],
   "source": [
    "# Distribución de Exited según Geography\n",
    "geo_exited = pd.crosstab(df[\"Geography\"], df[\"Exited\"], normalize=\"index\") * 100\n",
    "display(geo_exited)\n",
    "\n",
    "ax = sns.countplot(x=\"Geography\", hue=\"Exited\", data=df, palette=\"Set2\")\n",
    "plt.title(\"Distribución de clientes por país y su decisión (Exited)\")\n",
    "plt.xlabel(\"Geography\")\n",
    "plt.ylabel(\"Número de clientes\")\n",
    "plt.legend(title=\"Exited\", labels=[\"Permanece (0)\", \"Abandona (1)\"])\n",
    "plt.show()"
   ]
  },
  {
   "cell_type": "markdown",
   "id": "4a147a7d",
   "metadata": {},
   "source": [
    "### ✅ Conclusión 3.3.1 — Relación entre país de residencia y salida de clientes\n",
    "Se observa una diferencia clara en el comportamiento de los clientes según su país de residencia:  \n",
    "\n",
    "- **Alemania** presenta una tasa de abandono significativamente mayor, con un **32.4%** de clientes que dejan el banco.  \n",
    "- **Francia** y **España** muestran tasas de abandono mucho menores, en torno al **16%**.  \n",
    "\n",
    "Este hallazgo indica que el país de residencia es un factor relevante en la propensión al churn, destacando Alemania como el mercado con mayor riesgo de pérdida de clientes."
   ]
  },
  {
   "cell_type": "code",
   "execution_count": 11,
   "id": "0bf86631",
   "metadata": {},
   "outputs": [
    {
     "data": {
      "text/html": [
       "<div>\n",
       "<style scoped>\n",
       "    .dataframe tbody tr th:only-of-type {\n",
       "        vertical-align: middle;\n",
       "    }\n",
       "\n",
       "    .dataframe tbody tr th {\n",
       "        vertical-align: top;\n",
       "    }\n",
       "\n",
       "    .dataframe thead th {\n",
       "        text-align: right;\n",
       "    }\n",
       "</style>\n",
       "<table border=\"1\" class=\"dataframe\">\n",
       "  <thead>\n",
       "    <tr style=\"text-align: right;\">\n",
       "      <th>Exited</th>\n",
       "      <th>0</th>\n",
       "      <th>1</th>\n",
       "    </tr>\n",
       "    <tr>\n",
       "      <th>Gender</th>\n",
       "      <th></th>\n",
       "      <th></th>\n",
       "    </tr>\n",
       "  </thead>\n",
       "  <tbody>\n",
       "    <tr>\n",
       "      <th>Female</th>\n",
       "      <td>74.928461</td>\n",
       "      <td>25.071539</td>\n",
       "    </tr>\n",
       "    <tr>\n",
       "      <th>Male</th>\n",
       "      <td>83.544072</td>\n",
       "      <td>16.455928</td>\n",
       "    </tr>\n",
       "  </tbody>\n",
       "</table>\n",
       "</div>"
      ],
      "text/plain": [
       "Exited          0          1\n",
       "Gender                      \n",
       "Female  74.928461  25.071539\n",
       "Male    83.544072  16.455928"
      ]
     },
     "metadata": {},
     "output_type": "display_data"
    },
    {
     "data": {
      "image/png": "[encoded data removed]",
      "text/plain": [
       "<Figure size 800x500 with 1 Axes>"
      ]
     },
     "metadata": {},
     "output_type": "display_data"
    }
   ],
   "source": [
    "# Distribución de Exited según Gender\n",
    "gender_exited = pd.crosstab(df[\"Gender\"], df[\"Exited\"], normalize=\"index\") * 100\n",
    "display(gender_exited)\n",
    "\n",
    "ax = sns.countplot(x=\"Gender\", hue=\"Exited\", data=df, palette=\"Set1\")\n",
    "plt.title(\"Distribución de clientes por género y su decisión (Exited)\")\n",
    "plt.xlabel(\"Género\")\n",
    "plt.ylabel(\"Número de clientes\")\n",
    "plt.legend(title=\"Exited\", labels=[\"Permanece (0)\", \"Abandona (1)\"])\n",
    "plt.show()"
   ]
  },
  {
   "cell_type": "markdown",
   "id": "0c4a1267",
   "metadata": {},
   "source": [
    "### ✅ Conclusión 3.3.2 — Relación entre género y salida de clientes\n",
    "El análisis por género revela diferencias importantes en la propensión al churn:  \n",
    "\n",
    "- **Mujeres**: el **25.1%** abandona el banco, lo que representa una tasa de salida considerablemente más alta.  \n",
    "- **Hombres**: la tasa de abandono es de **16.5%**, significativamente menor que la de las mujeres.  \n",
    "\n",
    "Este hallazgo muestra que el género influye en el comportamiento de los clientes, con mayor riesgo de pérdida en el segmento femenino."
   ]
  },
  {
   "cell_type": "markdown",
   "id": "5416449d",
   "metadata": {},
   "source": [
    "### 3.4 Detección de valores extremos en variables numéricas\n",
    "\n",
    "En esta subsección se utilizan diagramas de caja (*boxplots*) para identificar posibles valores atípicos en variables numéricas clave:  \n",
    "- **Age** (edad del cliente)  \n",
    "- **Balance** (saldo en cuenta)  \n",
    "- **EstimatedSalary** (salario estimado)  \n",
    "\n",
    "El objetivo es detectar desviaciones significativas respecto a la distribución general que puedan impactar en el análisis y en el rendimiento de los modelos de predicción."
   ]
  },
  {
   "cell_type": "code",
   "execution_count": 12,
   "id": "390222aa",
   "metadata": {},
   "outputs": [
    {
     "data": {
      "image/png": "[encoded data removed]",
      "text/plain": [
       "<Figure size 1600x500 with 3 Axes>"
      ]
     },
     "metadata": {},
     "output_type": "display_data"
    }
   ],
   "source": [
    "# Boxplots de variables numéricas relevantes\n",
    "fig, axes = plt.subplots(1, 3, figsize=(16,5))\n",
    "\n",
    "sns.boxplot(y=df[\"Age\"], ax=axes[0], color=\"lightblue\").set(title=\"Edad (Age)\")\n",
    "sns.boxplot(y=df[\"Balance\"], ax=axes[1], color=\"lightgreen\").set(title=\"Saldo (Balance)\")\n",
    "sns.boxplot(y=df[\"EstimatedSalary\"], ax=axes[2], color=\"salmon\").set(title=\"Salario estimado (EstimatedSalary)\")\n",
    "\n",
    "plt.suptitle(\"Detección de valores extremos en variables numéricas\", y=1.05, fontsize=14)\n",
    "plt.show()"
   ]
  },
  {
   "cell_type": "markdown",
   "id": "dc3a98ab",
   "metadata": {},
   "source": [
    "### ✅ Conclusión 3.4 — Valores extremos en variables numéricas\n",
    "El análisis de valores atípicos revela lo siguiente:  \n",
    "\n",
    "- **Edad (Age):** se detectan valores extremos por encima de los 65 años, aunque corresponden a un número reducido de clientes. Estos registros son plausibles y no representan errores evidentes.  \n",
    "- **Saldo (Balance):** la mayoría de los clientes presenta saldos concentrados en un rango amplio, pero existe un grupo considerable con saldo igual a cero, lo que confirma la dualidad observada en el análisis previo.  \n",
    "- **Salario estimado (EstimatedSalary):** no se evidencian valores atípicos marcados, ya que la distribución es uniforme y consistente dentro del rango definido.  \n",
    "\n",
    "En conjunto, los valores extremos identificados corresponden a características propias de ciertos grupos de clientes y no implican errores en los datos."
   ]
  },
  {
   "cell_type": "markdown",
   "id": "6e68cb0c",
   "metadata": {},
   "source": [
    "## 4 Preprocesamiento de datos\n",
    "\n",
    "En esta etapa se preparan los datos para el entrenamiento de los modelos de predicción.  \n",
    "El proceso incluye la selección de variables relevantes, la codificación de variables categóricas y el escalado de variables numéricas.  \n",
    "El objetivo es transformar el dataset en una estructura numérica consistente que pueda ser utilizada directamente por los algoritmos de machine learning."
   ]
  },
  {
   "cell_type": "code",
   "execution_count": 13,
   "id": "195a29dd",
   "metadata": {},
   "outputs": [
    {
     "name": "stdout",
     "output_type": "stream",
     "text": [
      "Variables seleccionadas como características:\n",
      "['CreditScore', 'Geography', 'Gender', 'Age', 'Tenure', 'Balance', 'NumOfProducts', 'HasCrCard', 'IsActiveMember', 'EstimatedSalary']\n",
      "\n",
      "Variable objetivo:\n",
      "Exited\n"
     ]
    }
   ],
   "source": [
    "# Se elimina información irrelevante para el modelo\n",
    "df_model = df.drop(columns=[\"RowNumber\", \"CustomerId\", \"Surname\"])\n",
    "\n",
    "# Definición de variable objetivo y características\n",
    "target = df_model[\"Exited\"]\n",
    "features = df_model.drop(columns=[\"Exited\"])\n",
    "\n",
    "print(\"Variables seleccionadas como características:\")\n",
    "print(list(features.columns))\n",
    "print(\"\\nVariable objetivo:\")\n",
    "print(\"Exited\")\n"
   ]
  },
  {
   "cell_type": "markdown",
   "id": "464f067a",
   "metadata": {},
   "source": [
    "### ✅ Conclusión 4.1 — Selección de variables\n",
    "Se definió como variable objetivo `Exited`, que indica si el cliente abandonó el banco.  \n",
    "Las variables seleccionadas como características fueron:  \n",
    "\n",
    "- **CreditScore**: puntaje de crédito.  \n",
    "- **Geography**: país de residencia.  \n",
    "- **Gender**: género del cliente.  \n",
    "- **Age**: edad del cliente.  \n",
    "- **Tenure**: años de relación con el banco.  \n",
    "- **Balance**: saldo en cuenta.  \n",
    "- **NumOfProducts**: número de productos contratados.  \n",
    "- **HasCrCard**: indicador de tarjeta de crédito.  \n",
    "- **IsActiveMember**: indicador de cliente activo.  \n",
    "- **EstimatedSalary**: salario estimado.  \n",
    "\n",
    "Con esta selección se mantiene un conjunto de variables relevantes, eliminando identificadores que no aportan al modelo predictivo."
   ]
  },
  {
   "cell_type": "markdown",
   "id": "b7628dc4",
   "metadata": {},
   "source": [
    "### 4.2 Codificación de variables categóricas\n",
    "\n",
    "Las variables categóricas deben transformarse en formato numérico para ser utilizadas por los algoritmos de machine learning.  \n",
    "En este caso, se codifican las variables **Geography** y **Gender** mediante la técnica *One-Hot Encoding*, que crea variables binarias para cada categoría.  \n",
    "De esta manera se preserva la información categórica sin introducir un orden artificial entre los valores."
   ]
  },
  {
   "cell_type": "code",
   "execution_count": 14,
   "id": "54ae6196",
   "metadata": {},
   "outputs": [
    {
     "name": "stdout",
     "output_type": "stream",
     "text": [
      "Dimensiones antes de codificación: (10000, 10)\n",
      "Dimensiones después de codificación: (10000, 11)\n",
      "\n",
      "Columnas resultantes después de codificación:\n",
      "['CreditScore', 'Age', 'Tenure', 'Balance', 'NumOfProducts', 'HasCrCard', 'IsActiveMember', 'EstimatedSalary', 'Geography_Germany', 'Geography_Spain', 'Gender_Male']\n"
     ]
    }
   ],
   "source": [
    "# One-Hot Encoding para variables categóricas\n",
    "features_encoded = pd.get_dummies(features, columns=[\"Geography\", \"Gender\"], drop_first=True)\n",
    "\n",
    "print(\"Dimensiones antes de codificación:\", features.shape)\n",
    "print(\"Dimensiones después de codificación:\", features_encoded.shape)\n",
    "print(\"\\nColumnas resultantes después de codificación:\")\n",
    "print(list(features_encoded.columns))"
   ]
  },
  {
   "cell_type": "markdown",
   "id": "ce596f08",
   "metadata": {},
   "source": [
    "### ✅ Conclusión 4.2 — Codificación de variables categóricas\n",
    "Las variables categóricas **Geography** y **Gender** fueron transformadas en variables binarias mediante *One-Hot Encoding*.  \n",
    "\n",
    "- Antes de la codificación, el conjunto de características contenía **10 columnas**.  \n",
    "- Después de la codificación, el número aumentó a **11 columnas**, incorporando las nuevas variables:  \n",
    "  - `Geography_Germany`  \n",
    "  - `Geography_Spain`  \n",
    "  - `Gender_Male`  \n",
    "\n",
    "De esta manera, todas las variables del dataset quedaron representadas en formato numérico y listas para su uso en los modelos de predicción."
   ]
  },
  {
   "cell_type": "markdown",
   "id": "5799c4e0",
   "metadata": {},
   "source": [
    "### 4.3 Escalado de variables numéricas\n",
    "\n",
    "Los algoritmos de machine learning suelen ser sensibles a las diferencias en la magnitud de las variables.  \n",
    "Por ello, se aplica un proceso de **escalado estándar (StandardScaler)** para normalizar las variables numéricas, de manera que todas tengan media 0 y desviación estándar 1.  \n",
    "Este procedimiento permite mejorar la estabilidad y el rendimiento de los modelos, en especial aquellos basados en distancias y regresión."
   ]
  },
  {
   "cell_type": "code",
   "execution_count": 15,
   "id": "be208446",
   "metadata": {},
   "outputs": [
    {
     "name": "stdout",
     "output_type": "stream",
     "text": [
      "Dimensiones después del escalado: (10000, 11)\n",
      "\n",
      "Vista previa de los datos escalados:\n"
     ]
    },
    {
     "data": {
      "text/html": [
       "<div>\n",
       "<style scoped>\n",
       "    .dataframe tbody tr th:only-of-type {\n",
       "        vertical-align: middle;\n",
       "    }\n",
       "\n",
       "    .dataframe tbody tr th {\n",
       "        vertical-align: top;\n",
       "    }\n",
       "\n",
       "    .dataframe thead th {\n",
       "        text-align: right;\n",
       "    }\n",
       "</style>\n",
       "<table border=\"1\" class=\"dataframe\">\n",
       "  <thead>\n",
       "    <tr style=\"text-align: right;\">\n",
       "      <th></th>\n",
       "      <th>CreditScore</th>\n",
       "      <th>Age</th>\n",
       "      <th>Tenure</th>\n",
       "      <th>Balance</th>\n",
       "      <th>NumOfProducts</th>\n",
       "      <th>HasCrCard</th>\n",
       "      <th>IsActiveMember</th>\n",
       "      <th>EstimatedSalary</th>\n",
       "      <th>Geography_Germany</th>\n",
       "      <th>Geography_Spain</th>\n",
       "      <th>Gender_Male</th>\n",
       "    </tr>\n",
       "  </thead>\n",
       "  <tbody>\n",
       "    <tr>\n",
       "      <th>0</th>\n",
       "      <td>-0.326221</td>\n",
       "      <td>0.293517</td>\n",
       "      <td>-0.817441</td>\n",
       "      <td>-1.225848</td>\n",
       "      <td>-0.911583</td>\n",
       "      <td>0.646092</td>\n",
       "      <td>0.970243</td>\n",
       "      <td>0.021886</td>\n",
       "      <td>-0.578736</td>\n",
       "      <td>-0.573809</td>\n",
       "      <td>-1.095988</td>\n",
       "    </tr>\n",
       "    <tr>\n",
       "      <th>1</th>\n",
       "      <td>-0.440036</td>\n",
       "      <td>0.198164</td>\n",
       "      <td>-1.138838</td>\n",
       "      <td>0.117350</td>\n",
       "      <td>-0.911583</td>\n",
       "      <td>-1.547768</td>\n",
       "      <td>0.970243</td>\n",
       "      <td>0.216534</td>\n",
       "      <td>-0.578736</td>\n",
       "      <td>1.742740</td>\n",
       "      <td>-1.095988</td>\n",
       "    </tr>\n",
       "    <tr>\n",
       "      <th>2</th>\n",
       "      <td>-1.536794</td>\n",
       "      <td>0.293517</td>\n",
       "      <td>1.110941</td>\n",
       "      <td>1.333053</td>\n",
       "      <td>2.527057</td>\n",
       "      <td>0.646092</td>\n",
       "      <td>-1.030670</td>\n",
       "      <td>0.240687</td>\n",
       "      <td>-0.578736</td>\n",
       "      <td>-0.573809</td>\n",
       "      <td>-1.095988</td>\n",
       "    </tr>\n",
       "    <tr>\n",
       "      <th>3</th>\n",
       "      <td>0.501521</td>\n",
       "      <td>0.007457</td>\n",
       "      <td>-1.138838</td>\n",
       "      <td>-1.225848</td>\n",
       "      <td>0.807737</td>\n",
       "      <td>-1.547768</td>\n",
       "      <td>-1.030670</td>\n",
       "      <td>-0.108918</td>\n",
       "      <td>-0.578736</td>\n",
       "      <td>-0.573809</td>\n",
       "      <td>-1.095988</td>\n",
       "    </tr>\n",
       "    <tr>\n",
       "      <th>4</th>\n",
       "      <td>2.063884</td>\n",
       "      <td>0.388871</td>\n",
       "      <td>-0.817441</td>\n",
       "      <td>0.785728</td>\n",
       "      <td>-0.911583</td>\n",
       "      <td>0.646092</td>\n",
       "      <td>0.970243</td>\n",
       "      <td>-0.365276</td>\n",
       "      <td>-0.578736</td>\n",
       "      <td>1.742740</td>\n",
       "      <td>-1.095988</td>\n",
       "    </tr>\n",
       "  </tbody>\n",
       "</table>\n",
       "</div>"
      ],
      "text/plain": [
       "   CreditScore       Age    Tenure   Balance  NumOfProducts  HasCrCard  \\\n",
       "0    -0.326221  0.293517 -0.817441 -1.225848      -0.911583   0.646092   \n",
       "1    -0.440036  0.198164 -1.138838  0.117350      -0.911583  -1.547768   \n",
       "2    -1.536794  0.293517  1.110941  1.333053       2.527057   0.646092   \n",
       "3     0.501521  0.007457 -1.138838 -1.225848       0.807737  -1.547768   \n",
       "4     2.063884  0.388871 -0.817441  0.785728      -0.911583   0.646092   \n",
       "\n",
       "   IsActiveMember  EstimatedSalary  Geography_Germany  Geography_Spain  \\\n",
       "0        0.970243         0.021886          -0.578736        -0.573809   \n",
       "1        0.970243         0.216534          -0.578736         1.742740   \n",
       "2       -1.030670         0.240687          -0.578736        -0.573809   \n",
       "3       -1.030670        -0.108918          -0.578736        -0.573809   \n",
       "4        0.970243        -0.365276          -0.578736         1.742740   \n",
       "\n",
       "   Gender_Male  \n",
       "0    -1.095988  \n",
       "1    -1.095988  \n",
       "2    -1.095988  \n",
       "3    -1.095988  \n",
       "4    -1.095988  "
      ]
     },
     "metadata": {},
     "output_type": "display_data"
    }
   ],
   "source": [
    "from sklearn.preprocessing import StandardScaler\n",
    "\n",
    "# Inicialización del escalador\n",
    "scaler = StandardScaler()\n",
    "\n",
    "# Ajuste y transformación de las características\n",
    "features_scaled = scaler.fit_transform(features_encoded)\n",
    "\n",
    "# Convertimos nuevamente a DataFrame para mantener claridad en los nombres de columnas\n",
    "features_scaled = pd.DataFrame(features_scaled, columns=features_encoded.columns)\n",
    "\n",
    "print(\"Dimensiones después del escalado:\", features_scaled.shape)\n",
    "print(\"\\nVista previa de los datos escalados:\")\n",
    "display(features_scaled.head())"
   ]
  },
  {
   "cell_type": "markdown",
   "id": "077e383e",
   "metadata": {},
   "source": [
    "### ✅ Conclusión 4.3 — Escalado de variables numéricas\n",
    "Todas las variables fueron transformadas mediante **StandardScaler**, lo que garantiza que se encuentren en una misma escala con media 0 y desviación estándar 1.  \n",
    "De esta forma, características como **CreditScore**, **Age**, **Balance** y **EstimatedSalary**, que originalmente tenían magnitudes muy diferentes, ahora pueden ser interpretadas de manera equitativa por los algoritmos de machine learning.  \n",
    "El conjunto resultante conserva la misma cantidad de registros (**10,000**) y columnas (**11**) que el dataset codificado."
   ]
  },
  {
   "cell_type": "markdown",
   "id": "21830d6f",
   "metadata": {},
   "source": [
    "## 5 Partición de datos (train/valid/test)\n",
    "\n",
    "Para evaluar el desempeño de los modelos de forma confiable, el dataset se divide en tres subconjuntos:  \n",
    "- **Entrenamiento (train):** utilizado para ajustar los modelos.  \n",
    "- **Validación (valid):** empleado para comparar configuraciones y seleccionar el mejor modelo.  \n",
    "- **Prueba (test):** reservado para la evaluación final.  \n",
    "\n",
    "Se utilizó una división estratificada que mantiene la proporción original de la variable objetivo `Exited`, evitando sesgos en los conjuntos.  \n",
    "La proporción aplicada fue de **60% / 20% / 20%** para train, valid y test respectivamente."
   ]
  },
  {
   "cell_type": "code",
   "execution_count": 16,
   "id": "8a83d546",
   "metadata": {},
   "outputs": [
    {
     "name": "stdout",
     "output_type": "stream",
     "text": [
      "Conjunto de entrenamiento (train): (6000, 11) (6000,)\n",
      "Conjunto de validación (valid):    (2000, 11) (2000,)\n",
      "Conjunto de prueba (test):         (2000, 11) (2000,)\n"
     ]
    }
   ],
   "source": [
    "from sklearn.model_selection import train_test_split\n",
    "\n",
    "# División inicial: train (60%) y temp (40%)\n",
    "features_train, features_temp, target_train, target_temp = train_test_split(\n",
    "    features_scaled, target, test_size=0.4, stratify=target, random_state=42\n",
    ")\n",
    "\n",
    "# División de temp en valid (20%) y test (20%)\n",
    "features_valid, features_test, target_valid, target_test = train_test_split(\n",
    "    features_temp, target_temp, test_size=0.5, stratify=target_temp, random_state=42\n",
    ")\n",
    "\n",
    "# Verificación de dimensiones\n",
    "print(\"Conjunto de entrenamiento (train):\", features_train.shape, target_train.shape)\n",
    "print(\"Conjunto de validación (valid):   \", features_valid.shape, target_valid.shape)\n",
    "print(\"Conjunto de prueba (test):        \", features_test.shape, target_test.shape)"
   ]
  },
  {
   "cell_type": "markdown",
   "id": "a651a199",
   "metadata": {},
   "source": [
    "### ✅ Conclusión 5 — Partición de datos\n",
    "El dataset se dividió en tres subconjuntos de manera estratificada, preservando la proporción original de clientes que permanecen y abandonan el banco:  \n",
    "\n",
    "- **Entrenamiento (train):** 6,000 registros (60% del total).  \n",
    "- **Validación (valid):** 2,000 registros (20% del total).  \n",
    "- **Prueba (test):** 2,000 registros (20% del total).  \n",
    "\n",
    "Esta partición asegura que los modelos puedan ser entrenados, comparados y evaluados de manera justa, evitando sesgos en la estimación de su desempeño."
   ]
  },
  {
   "cell_type": "markdown",
   "id": "e139598e",
   "metadata": {},
   "source": [
    "## 6 Modelos base (sin corrección de desbalanceo)\n",
    "\n",
    "En esta sección se entrenan modelos predictivos iniciales sin aplicar técnicas de balanceo de clases.  \n",
    "El propósito es establecer una referencia de desempeño para compararla posteriormente con modelos ajustados al desbalance.  \n",
    "\n",
    "El primer modelo evaluado corresponde a un **árbol de decisión (DecisionTreeClassifier)**, utilizando hiperparámetros básicos como profundidad máxima y número mínimo de registros por división y por hoja."
   ]
  },
  {
   "cell_type": "code",
   "execution_count": 17,
   "id": "264e8a17",
   "metadata": {},
   "outputs": [
    {
     "name": "stdout",
     "output_type": "stream",
     "text": [
      "Resultados Árbol de Decisión (validación):\n",
      "F1: 0.588\n",
      "AUC-ROC: 0.843\n"
     ]
    }
   ],
   "source": [
    "from sklearn.tree import DecisionTreeClassifier\n",
    "from sklearn.metrics import f1_score, roc_auc_score\n",
    "\n",
    "# Entrenamiento del árbol de decisión con hiperparámetros iniciales\n",
    "dt_model = DecisionTreeClassifier(\n",
    "    max_depth=5,\n",
    "    min_samples_split=20,\n",
    "    min_samples_leaf=10,\n",
    "    random_state=42\n",
    ")\n",
    "\n",
    "dt_model.fit(features_train, target_train)\n",
    "\n",
    "# Predicciones en conjunto de validación\n",
    "preds_valid = dt_model.predict(features_valid)\n",
    "probs_valid = dt_model.predict_proba(features_valid)[:, 1]\n",
    "\n",
    "# Evaluación de métricas\n",
    "f1_dt = f1_score(target_valid, preds_valid)\n",
    "auc_dt = roc_auc_score(target_valid, probs_valid)\n",
    "\n",
    "print(\"Resultados Árbol de Decisión (validación):\")\n",
    "print(f\"F1: {f1_dt:.3f}\")\n",
    "print(f\"AUC-ROC: {auc_dt:.3f}\")\n"
   ]
  },
  {
   "cell_type": "markdown",
   "id": "c8cc97ba",
   "metadata": {},
   "source": [
    "### ✅ Conclusión 6.1 — Árbol de Decisión\n",
    "El modelo de árbol de decisión alcanzó en el conjunto de validación los siguientes resultados:  \n",
    "\n",
    "- **F1:** 0.588  \n",
    "- **AUC-ROC:** 0.843  \n",
    "\n",
    "La métrica F1 se encuentra ligeramente por debajo del umbral establecido de 0.59, lo que indica que el modelo tiene dificultades para equilibrar precisión y recall en la detección de clientes que abandonan.  \n",
    "En contraste, el valor de AUC-ROC es alto, lo que refleja una buena capacidad del modelo para distinguir entre clientes que permanecen y los que abandonan.  \n",
    "\n",
    "Estos resultados establecen una primera referencia para comparar con otros modelos más complejos."
   ]
  },
  {
   "cell_type": "markdown",
   "id": "358acf90",
   "metadata": {},
   "source": [
    "### 6.2 Random Forest (modelo base)\n",
    "\n",
    "Se entrena un modelo de **Random Forest**, que combina múltiples árboles de decisión para mejorar la capacidad de generalización.  \n",
    "Este enfoque suele ser más robusto frente al sobreajuste y puede capturar relaciones más complejas entre las variables.  \n",
    "Se evaluará el rendimiento en términos de **F1** y **AUC-ROC** utilizando el conjunto de validación."
   ]
  },
  {
   "cell_type": "code",
   "execution_count": 18,
   "id": "771b6753",
   "metadata": {},
   "outputs": [
    {
     "name": "stdout",
     "output_type": "stream",
     "text": [
      "Resultados Random Forest (validación):\n",
      "F1: 0.603\n",
      "AUC-ROC: 0.876\n"
     ]
    }
   ],
   "source": [
    "from sklearn.ensemble import RandomForestClassifier\n",
    "\n",
    "# Entrenamiento del modelo Random Forest con hiperparámetros iniciales\n",
    "rf_model = RandomForestClassifier(\n",
    "    n_estimators=100,\n",
    "    max_depth=10,\n",
    "    min_samples_split=20,\n",
    "    min_samples_leaf=10,\n",
    "    random_state=42\n",
    ")\n",
    "\n",
    "rf_model.fit(features_train, target_train)\n",
    "\n",
    "# Predicciones en validación\n",
    "rf_preds_valid = rf_model.predict(features_valid)\n",
    "rf_probs_valid = rf_model.predict_proba(features_valid)[:, 1]\n",
    "\n",
    "# Evaluación de métricas\n",
    "f1_rf = f1_score(target_valid, rf_preds_valid)\n",
    "auc_rf = roc_auc_score(target_valid, rf_probs_valid)\n",
    "\n",
    "print(\"Resultados Random Forest (validación):\")\n",
    "print(f\"F1: {f1_rf:.3f}\")\n",
    "print(f\"AUC-ROC: {auc_rf:.3f}\")"
   ]
  },
  {
   "cell_type": "markdown",
   "id": "3868d56b",
   "metadata": {},
   "source": [
    "### ✅ Conclusión 6.2 — Random Forest\n",
    "El modelo de Random Forest alcanzó en el conjunto de validación los siguientes resultados:  \n",
    "\n",
    "- **F1:** 0.586  \n",
    "- **AUC-ROC:** 0.876  \n",
    "\n",
    "La métrica F1 se mantiene cercana al umbral objetivo (0.59), aunque ligeramente por debajo.  \n",
    "Por otro lado, el valor de AUC-ROC es superior al obtenido con el árbol de decisión, lo que refleja una mejor capacidad del modelo para distinguir entre clientes que permanecen y los que abandonan.  \n",
    "\n",
    "Estos resultados confirman que Random Forest ofrece un desempeño más robusto que un único árbol de decisión, aunque todavía limitado por el desbalance de clases presente en los datos."
   ]
  },
  {
   "cell_type": "markdown",
   "id": "ac9b18fb",
   "metadata": {},
   "source": [
    "### 6.3 Regresión Logística (modelo base)\n",
    "\n",
    "Se entrena un modelo de **Regresión Logística**, que permite estimar la probabilidad de abandono de los clientes en función de las características seleccionadas.  \n",
    "Este modelo es lineal e interpretable, lo que lo convierte en una referencia útil para comparar con algoritmos más complejos.  \n",
    "Se evalúa su desempeño mediante las métricas **F1** y **AUC-ROC** en el conjunto de validación."
   ]
  },
  {
   "cell_type": "code",
   "execution_count": 19,
   "id": "34fa1b1c",
   "metadata": {},
   "outputs": [
    {
     "name": "stdout",
     "output_type": "stream",
     "text": [
      "Resultados Regresión Logística (validación):\n",
      "F1: 0.327\n",
      "AUC-ROC: 0.791\n"
     ]
    }
   ],
   "source": [
    "from sklearn.linear_model import LogisticRegression\n",
    "\n",
    "# Entrenamiento del modelo de Regresión Logística\n",
    "log_model = LogisticRegression(\n",
    "    solver=\"liblinear\",\n",
    "    max_iter=1000,\n",
    "    random_state=42\n",
    ")\n",
    "\n",
    "log_model.fit(features_train, target_train)\n",
    "\n",
    "# Predicciones en validación\n",
    "log_preds_valid = log_model.predict(features_valid)\n",
    "log_probs_valid = log_model.predict_proba(features_valid)[:, 1]\n",
    "\n",
    "# Evaluación de métricas\n",
    "f1_log = f1_score(target_valid, log_preds_valid)\n",
    "auc_log = roc_auc_score(target_valid, log_probs_valid)\n",
    "\n",
    "print(\"Resultados Regresión Logística (validación):\")\n",
    "print(f\"F1: {f1_log:.3f}\")\n",
    "print(f\"AUC-ROC: {auc_log:.3f}\")\n"
   ]
  },
  {
   "cell_type": "markdown",
   "id": "df6c88d3",
   "metadata": {},
   "source": [
    "### ✅ Conclusión 6.3 — Regresión Logística\n",
    "El modelo de regresión logística alcanzó en el conjunto de validación los siguientes resultados:  \n",
    "\n",
    "- **F1:** 0.327  \n",
    "- **AUC-ROC:** 0.791  \n",
    "\n",
    "El desempeño en la métrica F1 es considerablemente inferior al umbral objetivo (0.59), lo que indica limitaciones en la capacidad del modelo para identificar clientes que abandonan el banco.  \n",
    "Sin embargo, el valor de AUC-ROC se mantiene en un nivel aceptable, lo que refleja que el modelo logra cierta capacidad de diferenciación entre ambas clases.  \n",
    "\n",
    "Estos resultados confirman que, en este contexto, la regresión logística no resulta competitiva frente a modelos basados en árboles como el Decision Tree o el Random Forest."
   ]
  },
  {
   "cell_type": "markdown",
   "id": "0bc0f61c",
   "metadata": {},
   "source": [
    "## 7 Técnicas de balanceo de clases\n",
    "\n",
    "Dado que la variable objetivo `Exited` presenta un desbalance importante (80% clientes que permanecen vs 20% que abandonan), se aplican técnicas de balanceo con el fin de mejorar la detección de clientes en riesgo de churn.  \n",
    "\n",
    "Se implementaron dos estrategias:  \n",
    "1. **Oversampling:** incremento de la clase minoritaria mediante duplicación de registros.  \n",
    "2. **Undersampling:** reducción de la clase mayoritaria mediante muestreo aleatorio.  \n",
    "\n",
    "El objetivo es evaluar el impacto de estas técnicas en las métricas F1 y AUC-ROC de los modelos."
   ]
  },
  {
   "cell_type": "code",
   "execution_count": 20,
   "id": "7671669a",
   "metadata": {},
   "outputs": [
    {
     "name": "stdout",
     "output_type": "stream",
     "text": [
      "Dimensiones antes del oversampling: (6000, 11) (6000,)\n",
      "Dimensiones después del oversampling: (9666, 11) (9666,)\n",
      "\n",
      "Distribución de clases tras oversampling:\n",
      "Exited\n",
      "1    0.50569\n",
      "0    0.49431\n",
      "Name: proportion, dtype: float64\n"
     ]
    }
   ],
   "source": [
    "# Oversampling de la clase minoritaria (Exited = 1)\n",
    "train_concat = pd.concat([features_train, target_train], axis=1)\n",
    "\n",
    "# Separación por clases\n",
    "train_majority = train_concat[train_concat[\"Exited\"] == 0]\n",
    "train_minority = train_concat[train_concat[\"Exited\"] == 1]\n",
    "\n",
    "# Duplicamos la clase minoritaria hasta equilibrar con la mayoritaria\n",
    "train_minority_oversampled = pd.concat([train_minority] * 4, axis=0)\n",
    "\n",
    "# Unimos ambas clases balanceadas\n",
    "train_oversampled = pd.concat([train_majority, train_minority_oversampled])\n",
    "\n",
    "# Barajamos el dataset resultante\n",
    "train_oversampled = train_oversampled.sample(frac=1, random_state=42)\n",
    "\n",
    "# Reconstrucción de features y target\n",
    "features_train_over = train_oversampled.drop(columns=[\"Exited\"])\n",
    "target_train_over = train_oversampled[\"Exited\"]\n",
    "\n",
    "print(\"Dimensiones antes del oversampling:\", features_train.shape, target_train.shape)\n",
    "print(\"Dimensiones después del oversampling:\", features_train_over.shape, target_train_over.shape)\n",
    "print(\"\\nDistribución de clases tras oversampling:\")\n",
    "print(target_train_over.value_counts(normalize=True))\n"
   ]
  },
  {
   "cell_type": "markdown",
   "id": "3e01dd99",
   "metadata": {},
   "source": [
    "### ✅ Conclusión 7.1 — Oversampling\n",
    "La clase minoritaria (`Exited = 1`) fue ampliada mediante duplicación de registros hasta alcanzar un balance cercano al 50%.  \n",
    "\n",
    "- **Antes del oversampling:** 6,000 registros de entrenamiento con distribución desbalanceada.  \n",
    "- **Después del oversampling:** 9,666 registros con proporciones equilibradas (**50.6% clientes que abandonan vs 49.4% que permanecen**).  \n",
    "\n",
    "Este ajuste garantiza que los modelos no estén sesgados hacia la clase mayoritaria y tengan mayores oportunidades de aprender patrones relacionados con el abandono de clientes."
   ]
  },
  {
   "cell_type": "markdown",
   "id": "be5f7262",
   "metadata": {},
   "source": [
    "### 7.2 Undersampling\n",
    "\n",
    "Se aplica una técnica de submuestreo aleatorio para equilibrar las clases, reduciendo la cantidad de clientes de la clase mayoritaria (`Exited = 0`).  \n",
    "De esta manera se obtiene un dataset balanceado con un número menor de observaciones, lo que permite comparar el impacto de ambas estrategias de balanceo (oversampling vs undersampling)."
   ]
  },
  {
   "cell_type": "code",
   "execution_count": 21,
   "id": "f229f5ab",
   "metadata": {},
   "outputs": [
    {
     "name": "stdout",
     "output_type": "stream",
     "text": [
      "Dimensiones antes del undersampling: (6000, 11) (6000,)\n",
      "Dimensiones después del undersampling: (2444, 11) (2444,)\n",
      "\n",
      "Distribución de clases tras undersampling:\n",
      "Exited\n",
      "1    0.5\n",
      "0    0.5\n",
      "Name: proportion, dtype: float64\n"
     ]
    }
   ],
   "source": [
    "# Undersampling de la clase mayoritaria (Exited = 0)\n",
    "train_concat = pd.concat([features_train, target_train], axis=1)\n",
    "\n",
    "# Separación por clases\n",
    "train_majority = train_concat[train_concat[\"Exited\"] == 0]\n",
    "train_minority = train_concat[train_concat[\"Exited\"] == 1]\n",
    "\n",
    "# Submuestreo aleatorio de la clase mayoritaria\n",
    "train_majority_under = train_majority.sample(len(train_minority), random_state=42)\n",
    "\n",
    "# Unimos ambas clases balanceadas\n",
    "train_undersampled = pd.concat([train_majority_under, train_minority])\n",
    "\n",
    "# Barajamos el dataset resultante\n",
    "train_undersampled = train_undersampled.sample(frac=1, random_state=42)\n",
    "\n",
    "# Reconstrucción de features y target\n",
    "features_train_under = train_undersampled.drop(columns=[\"Exited\"])\n",
    "target_train_under = train_undersampled[\"Exited\"]\n",
    "\n",
    "print(\"Dimensiones antes del undersampling:\", features_train.shape, target_train.shape)\n",
    "print(\"Dimensiones después del undersampling:\", features_train_under.shape, target_train_under.shape)\n",
    "print(\"\\nDistribución de clases tras undersampling:\")\n",
    "print(target_train_under.value_counts(normalize=True))\n"
   ]
  },
  {
   "cell_type": "markdown",
   "id": "2371e365",
   "metadata": {},
   "source": [
    "### ✅ Conclusión 7.2 — Undersampling\n",
    "La clase mayoritaria (`Exited = 0`) fue reducida mediante muestreo aleatorio hasta equilibrarse con la clase minoritaria (`Exited = 1`).  \n",
    "\n",
    "- **Antes del undersampling:** 6,000 registros de entrenamiento con distribución desbalanceada.  \n",
    "- **Después del undersampling:** 2,444 registros balanceados, con **50% clientes que permanecen y 50% que abandonan**.  \n",
    "\n",
    "Si bien este método elimina información de la clase mayoritaria, permite obtener un dataset compacto y equilibrado para comparar el impacto en el rendimiento de los modelos."
   ]
  },
  {
   "cell_type": "markdown",
   "id": "36c70cd8",
   "metadata": {},
   "source": [
    "## 8 Entrenamiento y comparación de modelos balanceados\n",
    "\n",
    "Se entrenarán nuevamente los modelos de Árbol de Decisión, Random Forest y Regresión Logística utilizando datasets balanceados mediante oversampling y undersampling.  \n",
    "El objetivo es comparar el impacto de cada técnica de balanceo sobre las métricas de desempeño (F1 y AUC-ROC) en el conjunto de validación."
   ]
  },
  {
   "cell_type": "code",
   "execution_count": 22,
   "id": "23e9534b",
   "metadata": {},
   "outputs": [
    {
     "name": "stdout",
     "output_type": "stream",
     "text": [
      "Árbol de Decisión con Oversampling (validación):\n",
      "F1: 0.572\n",
      "AUC-ROC: 0.855\n"
     ]
    }
   ],
   "source": [
    "# Árbol de Decisión con Oversampling\n",
    "dt_model_over = DecisionTreeClassifier(\n",
    "    max_depth=5,\n",
    "    min_samples_split=20,\n",
    "    min_samples_leaf=10,\n",
    "    random_state=42\n",
    ")\n",
    "\n",
    "dt_model_over.fit(features_train_over, target_train_over)\n",
    "\n",
    "# Predicciones en validación\n",
    "preds_valid_over = dt_model_over.predict(features_valid)\n",
    "probs_valid_over = dt_model_over.predict_proba(features_valid)[:, 1]\n",
    "\n",
    "# Métricas\n",
    "f1_dt_over = f1_score(target_valid, preds_valid_over)\n",
    "auc_dt_over = roc_auc_score(target_valid, probs_valid_over)\n",
    "\n",
    "print(\"Árbol de Decisión con Oversampling (validación):\")\n",
    "print(f\"F1: {f1_dt_over:.3f}\")\n",
    "print(f\"AUC-ROC: {auc_dt_over:.3f}\")\n"
   ]
  },
  {
   "cell_type": "markdown",
   "id": "b8e3c64c",
   "metadata": {},
   "source": [
    "### ✅ Conclusión 8.1 — Árbol de Decisión con Oversampling\n",
    "El Árbol de Decisión entrenado con oversampling alcanzó en el conjunto de validación:  \n",
    "\n",
    "- **F1:** 0.572  \n",
    "- **AUC-ROC:** 0.855  \n",
    "\n",
    "En comparación con el modelo base (F1 = 0.588, AUC-ROC = 0.843), la métrica F1 disminuyó ligeramente, mientras que el AUC-ROC mejoró.  \n",
    "Esto refleja que el modelo gana capacidad para distinguir entre clases, aunque no logra aún superar el umbral de F1 = 0.59 requerido por el proyecto."
   ]
  },
  {
   "cell_type": "markdown",
   "id": "832c6aad",
   "metadata": {},
   "source": [
    "### 8.2 Random Forest con Oversampling\n",
    "\n",
    "Se entrena un modelo de **Random Forest** utilizando el dataset balanceado por oversampling.  \n",
    "Este enfoque combina múltiples árboles de decisión y, al estar balanceadas las clases, se espera una mejora en la detección de clientes que abandonan el banco."
   ]
  },
  {
   "cell_type": "code",
   "execution_count": 23,
   "id": "2c1fe438",
   "metadata": {},
   "outputs": [
    {
     "name": "stdout",
     "output_type": "stream",
     "text": [
      "Random Forest con Oversampling (validación):\n",
      "F1: 0.630\n",
      "AUC-ROC: 0.876\n"
     ]
    }
   ],
   "source": [
    "# Random Forest con Oversampling\n",
    "rf_model_over = RandomForestClassifier(\n",
    "    n_estimators=100,\n",
    "    max_depth=10,\n",
    "    min_samples_split=20,\n",
    "    min_samples_leaf=10,\n",
    "    random_state=42\n",
    ")\n",
    "\n",
    "rf_model_over.fit(features_train_over, target_train_over)\n",
    "\n",
    "# Predicciones en validación\n",
    "rf_preds_valid_over = rf_model_over.predict(features_valid)\n",
    "rf_probs_valid_over = rf_model_over.predict_proba(features_valid)[:, 1]\n",
    "\n",
    "# Métricas\n",
    "f1_rf_over = f1_score(target_valid, rf_preds_valid_over)\n",
    "auc_rf_over = roc_auc_score(target_valid, rf_probs_valid_over)\n",
    "\n",
    "print(\"Random Forest con Oversampling (validación):\")\n",
    "print(f\"F1: {f1_rf_over:.3f}\")\n",
    "print(f\"AUC-ROC: {auc_rf_over:.3f}\")\n"
   ]
  },
  {
   "cell_type": "markdown",
   "id": "47ec1ea4",
   "metadata": {},
   "source": [
    "### ✅ Conclusión 8.2 — Random Forest con Oversampling\n",
    "El modelo de Random Forest entrenado con oversampling obtuvo en el conjunto de validación:  \n",
    "\n",
    "- **F1:** 0.630  \n",
    "- **AUC-ROC:** 0.876  \n",
    "\n",
    "Este desempeño supera ampliamente el umbral mínimo exigido (F1 ≥ 0.59), consolidándose como el mejor modelo hasta el momento.  \n",
    "El oversampling permitió mejorar la capacidad del modelo para identificar clientes en riesgo de abandono, manteniendo al mismo tiempo un alto valor de AUC-ROC.  \n",
    "Estos resultados indican que Random Forest con oversampling es un candidato sólido para la evaluación final en el conjunto de prueba."
   ]
  },
  {
   "cell_type": "markdown",
   "id": "e763c0bc",
   "metadata": {},
   "source": [
    "### 8.3 Regresión Logística con Oversampling\n",
    "\n",
    "Se entrena un modelo de **Regresión Logística** utilizando el dataset balanceado mediante oversampling.  \n",
    "El objetivo es evaluar si el balanceo mejora la capacidad del modelo lineal para detectar clientes que abandonan, comparado con su versión base."
   ]
  },
  {
   "cell_type": "code",
   "execution_count": 24,
   "id": "49114882",
   "metadata": {},
   "outputs": [
    {
     "name": "stdout",
     "output_type": "stream",
     "text": [
      "Regresión Logística con Oversampling (validación):\n",
      "F1: 0.521\n",
      "AUC-ROC: 0.794\n"
     ]
    }
   ],
   "source": [
    "# Regresión Logística con Oversampling\n",
    "log_model_over = LogisticRegression(\n",
    "    solver=\"liblinear\",\n",
    "    max_iter=1000,\n",
    "    random_state=42\n",
    ")\n",
    "\n",
    "log_model_over.fit(features_train_over, target_train_over)\n",
    "\n",
    "# Predicciones en validación\n",
    "log_preds_valid_over = log_model_over.predict(features_valid)\n",
    "log_probs_valid_over = log_model_over.predict_proba(features_valid)[:, 1]\n",
    "\n",
    "# Métricas\n",
    "f1_log_over = f1_score(target_valid, log_preds_valid_over)\n",
    "auc_log_over = roc_auc_score(target_valid, log_probs_valid_over)\n",
    "\n",
    "print(\"Regresión Logística con Oversampling (validación):\")\n",
    "print(f\"F1: {f1_log_over:.3f}\")\n",
    "print(f\"AUC-ROC: {auc_log_over:.3f}\")"
   ]
  },
  {
   "cell_type": "markdown",
   "id": "95a76242",
   "metadata": {},
   "source": [
    "### ✅ Conclusión 8.3 — Regresión Logística con Oversampling\n",
    "El modelo de Regresión Logística entrenado con oversampling obtuvo en el conjunto de validación:  \n",
    "\n",
    "- **F1:** 0.521  \n",
    "- **AUC-ROC:** 0.794  \n",
    "\n",
    "Si bien el balanceo permitió mejorar la métrica F1 respecto a la versión base (F1 = 0.327), el resultado aún se mantiene por debajo del umbral objetivo de 0.59.  \n",
    "El valor de AUC-ROC se mantuvo estable en torno a 0.79, lo que indica una capacidad moderada para distinguir entre clientes que permanecen y los que abandonan.  \n",
    "\n",
    "En conclusión, la Regresión Logística no alcanza el desempeño de modelos basados en árboles, aunque muestra una mejora significativa al aplicar oversampling."
   ]
  },
  {
   "cell_type": "markdown",
   "id": "1a51148f",
   "metadata": {},
   "source": [
    "### 8.4 Árbol de Decisión con Undersampling\n",
    "\n",
    "Se entrena un modelo de **Árbol de Decisión** utilizando el dataset balanceado mediante undersampling.  \n",
    "Este enfoque reduce la clase mayoritaria para igualarla con la clase minoritaria, lo que permite un balance perfecto pero con pérdida de registros de entrenamiento."
   ]
  },
  {
   "cell_type": "code",
   "execution_count": 25,
   "id": "b811bc71",
   "metadata": {},
   "outputs": [
    {
     "name": "stdout",
     "output_type": "stream",
     "text": [
      "Árbol de Decisión con Undersampling (validación):\n",
      "F1: 0.568\n",
      "AUC-ROC: 0.858\n"
     ]
    }
   ],
   "source": [
    "# Árbol de Decisión con Undersampling\n",
    "dt_model_under = DecisionTreeClassifier(\n",
    "    max_depth=5,\n",
    "    min_samples_split=20,\n",
    "    min_samples_leaf=10,\n",
    "    random_state=42\n",
    ")\n",
    "\n",
    "dt_model_under.fit(features_train_under, target_train_under)\n",
    "\n",
    "# Predicciones en validación\n",
    "preds_valid_under = dt_model_under.predict(features_valid)\n",
    "probs_valid_under = dt_model_under.predict_proba(features_valid)[:, 1]\n",
    "\n",
    "# Métricas\n",
    "f1_dt_under = f1_score(target_valid, preds_valid_under)\n",
    "auc_dt_under = roc_auc_score(target_valid, probs_valid_under)\n",
    "\n",
    "print(\"Árbol de Decisión con Undersampling (validación):\")\n",
    "print(f\"F1: {f1_dt_under:.3f}\")\n",
    "print(f\"AUC-ROC: {auc_dt_under:.3f}\")\n"
   ]
  },
  {
   "cell_type": "markdown",
   "id": "97769971",
   "metadata": {},
   "source": [
    "### ✅ Conclusión 8.4 — Árbol de Decisión con Undersampling\n",
    "El Árbol de Decisión entrenado con undersampling alcanzó en el conjunto de validación:  \n",
    "\n",
    "- **F1:** 0.568  \n",
    "- **AUC-ROC:** 0.858  \n",
    "\n",
    "El modelo logra un desempeño similar al obtenido con oversampling (F1 = 0.572, AUC-ROC = 0.855), aunque ligeramente inferior en F1.  \n",
    "Esto confirma que el Árbol de Decisión puede beneficiarse del balanceo de clases, pero su capacidad predictiva sigue siendo limitada en comparación con modelos más robustos."
   ]
  },
  {
   "cell_type": "markdown",
   "id": "3f468502",
   "metadata": {},
   "source": [
    "### 8.5 Random Forest con Undersampling\n",
    "\n",
    "Se entrena un modelo de **Random Forest** utilizando el dataset balanceado mediante undersampling.  \n",
    "Este enfoque permite evaluar el desempeño del bosque aleatorio cuando se reduce la clase mayoritaria para igualarla con la minoritaria."
   ]
  },
  {
   "cell_type": "code",
   "execution_count": 26,
   "id": "8a80a588",
   "metadata": {},
   "outputs": [
    {
     "name": "stdout",
     "output_type": "stream",
     "text": [
      "Random Forest con Undersampling (validación):\n",
      "F1: 0.601\n",
      "AUC-ROC: 0.870\n"
     ]
    }
   ],
   "source": [
    "# Random Forest con Undersampling\n",
    "rf_model_under = RandomForestClassifier(\n",
    "    n_estimators=100,\n",
    "    max_depth=10,\n",
    "    min_samples_split=20,\n",
    "    min_samples_leaf=10,\n",
    "    random_state=42\n",
    ")\n",
    "\n",
    "rf_model_under.fit(features_train_under, target_train_under)\n",
    "\n",
    "# Predicciones en validación\n",
    "rf_preds_valid_under = rf_model_under.predict(features_valid)\n",
    "rf_probs_valid_under = rf_model_under.predict_proba(features_valid)[:, 1]\n",
    "\n",
    "# Métricas\n",
    "f1_rf_under = f1_score(target_valid, rf_preds_valid_under)\n",
    "auc_rf_under = roc_auc_score(target_valid, rf_probs_valid_under)\n",
    "\n",
    "print(\"Random Forest con Undersampling (validación):\")\n",
    "print(f\"F1: {f1_rf_under:.3f}\")\n",
    "print(f\"AUC-ROC: {auc_rf_under:.3f}\")\n"
   ]
  },
  {
   "cell_type": "markdown",
   "id": "7a452d69",
   "metadata": {},
   "source": [
    "### ✅ Conclusión 8.5 — Random Forest con Undersampling\n",
    "El modelo de Random Forest entrenado con undersampling alcanzó en el conjunto de validación:  \n",
    "\n",
    "- **F1:** 0.601  \n",
    "- **AUC-ROC:** 0.870  \n",
    "\n",
    "El modelo logra superar el umbral de F1 ≥ 0.59, mostrando un desempeño competitivo.  \n",
    "En comparación con el Random Forest con oversampling (F1 = 0.630, AUC-ROC = 0.876), los resultados son ligeramente inferiores, aunque aún muy sólidos.  \n",
    "\n",
    "Esto confirma que Random Forest es un modelo robusto frente al desbalance de clases, tanto con oversampling como con undersampling, siendo más efectivo que otros algoritmos evaluados."
   ]
  },
  {
   "cell_type": "markdown",
   "id": "4144ed88",
   "metadata": {},
   "source": [
    "### 8.6 Regresión Logística con Undersampling\n",
    "\n",
    "Se entrena un modelo de **Regresión Logística** utilizando el dataset balanceado mediante undersampling.  \n",
    "El objetivo es analizar si la reducción de la clase mayoritaria mejora el desempeño de este modelo lineal en comparación con su versión base y con el oversampling."
   ]
  },
  {
   "cell_type": "code",
   "execution_count": 27,
   "id": "ff3b7fe1",
   "metadata": {},
   "outputs": [
    {
     "name": "stdout",
     "output_type": "stream",
     "text": [
      "Regresión Logística con Undersampling (validación):\n",
      "F1: 0.518\n",
      "AUC-ROC: 0.793\n"
     ]
    }
   ],
   "source": [
    "# Regresión Logística con Undersampling\n",
    "log_model_under = LogisticRegression(\n",
    "    solver=\"liblinear\",\n",
    "    max_iter=1000,\n",
    "    random_state=42\n",
    ")\n",
    "\n",
    "log_model_under.fit(features_train_under, target_train_under)\n",
    "\n",
    "# Predicciones en validación\n",
    "log_preds_valid_under = log_model_under.predict(features_valid)\n",
    "log_probs_valid_under = log_model_under.predict_proba(features_valid)[:, 1]\n",
    "\n",
    "# Métricas\n",
    "f1_log_under = f1_score(target_valid, log_preds_valid_under)\n",
    "auc_log_under = roc_auc_score(target_valid, log_probs_valid_under)\n",
    "\n",
    "print(\"Regresión Logística con Undersampling (validación):\")\n",
    "print(f\"F1: {f1_log_under:.3f}\")\n",
    "print(f\"AUC-ROC: {auc_log_under:.3f}\")\n"
   ]
  },
  {
   "cell_type": "markdown",
   "id": "e49432c7",
   "metadata": {},
   "source": [
    "### ✅ Conclusión 8.6 — Regresión Logística con Undersampling\n",
    "El modelo de Regresión Logística entrenado con undersampling obtuvo en el conjunto de validación:  \n",
    "\n",
    "- **F1:** 0.518  \n",
    "- **AUC-ROC:** 0.793  \n",
    "\n",
    "En comparación con la versión base (F1 = 0.327, AUC-ROC = 0.791), el balanceo mejoró el valor de F1 de manera significativa, aunque el resultado sigue por debajo del umbral de 0.59.  \n",
    "El AUC-ROC se mantuvo prácticamente sin cambios, indicando que la capacidad de discriminación del modelo no se vio afectada por el submuestreo.  \n",
    "\n",
    "Esto confirma que la Regresión Logística no logra competir con los modelos de Random Forest en este problema, aunque el balanceo contribuye a mejorar parcialmente su desempeño."
   ]
  },
  {
   "cell_type": "markdown",
   "id": "9ba7cea4",
   "metadata": {},
   "source": [
    "## 9 Evaluación final en conjunto de prueba\n",
    "\n",
    "El mejor modelo identificado en validación fue **Random Forest con Oversampling**, el cual superó el umbral requerido (F1 ≥ 0.59) y mostró un desempeño robusto.  \n",
    "\n",
    "Para validar su capacidad de generalización, el modelo se evaluó en el conjunto de prueba, que representa datos nunca antes vistos por el modelo durante el entrenamiento o la validación."
   ]
  },
  {
   "cell_type": "code",
   "execution_count": 28,
   "id": "c6c1d514",
   "metadata": {},
   "outputs": [
    {
     "name": "stdout",
     "output_type": "stream",
     "text": [
      "Resultados finales en conjunto de prueba (Random Forest con Oversampling):\n",
      "F1: 0.611\n",
      "AUC-ROC: 0.860\n"
     ]
    }
   ],
   "source": [
    "# Evaluación final del mejor modelo (Random Forest con Oversampling)\n",
    "rf_test_preds = rf_model_over.predict(features_test)\n",
    "rf_test_probs = rf_model_over.predict_proba(features_test)[:, 1]\n",
    "\n",
    "# Métricas en test\n",
    "f1_rf_test = f1_score(target_test, rf_test_preds)\n",
    "auc_rf_test = roc_auc_score(target_test, rf_test_probs)\n",
    "\n",
    "print(\"Resultados finales en conjunto de prueba (Random Forest con Oversampling):\")\n",
    "print(f\"F1: {f1_rf_test:.3f}\")\n",
    "print(f\"AUC-ROC: {auc_rf_test:.3f}\")\n"
   ]
  },
  {
   "cell_type": "markdown",
   "id": "685f6471",
   "metadata": {},
   "source": [
    "### ✅ Conclusión 9 — Evaluación final en conjunto de prueba\n",
    "El modelo seleccionado para la evaluación final fue **Random Forest con Oversampling**, tras demostrar el mejor desempeño en el conjunto de validación.  \n",
    "\n",
    "En el conjunto de prueba, los resultados obtenidos fueron:  \n",
    "- **F1:** 0.611  \n",
    "- **AUC-ROC:** 0.860  \n",
    "\n",
    "Estos valores confirman que el modelo mantiene un rendimiento sólido en datos no vistos, superando el umbral mínimo requerido (F1 ≥ 0.59).  \n",
    "El modelo muestra un buen equilibrio entre precisión y recall en la predicción de clientes que abandonan el banco, al mismo tiempo que conserva una alta capacidad de discriminación entre las dos clases.  \n",
    "\n",
    "De esta forma, **Random Forest con Oversampling** se consolida como la mejor alternativa para implementar un sistema de predicción de churn en **Beta Bank**."
   ]
  },
  {
   "cell_type": "markdown",
   "id": "5b666bf4",
   "metadata": {},
   "source": [
    "## 10 Conclusiones y recomendaciones finales\n",
    "\n",
    "Tras el desarrollo del proyecto, se pueden destacar los siguientes puntos clave:\n",
    "\n",
    "1. **Análisis exploratorio de datos (EDA):**  \n",
    "   - El dataset incluyó 10,000 clientes con 14 variables.  \n",
    "   - La variable objetivo `Exited` presentó un desbalance significativo (80% permanecen, 20% abandonan).  \n",
    "   - Se detectaron valores nulos en `Tenure`, que fueron interpretados como clientes con menos de un año de relación y tratados como `0`.  \n",
    "\n",
    "2. **Modelos base:**  \n",
    "   - Árbol de Decisión y Random Forest mostraron un mejor desempeño inicial en comparación con la Regresión Logística.  \n",
    "   - Ninguno de los modelos base alcanzó métricas suficientemente sólidas en F1 sin aplicar balanceo de clases.\n",
    "\n",
    "3. **Técnicas de balanceo:**  \n",
    "   - Se aplicaron oversampling y undersampling.  \n",
    "   - Ambos métodos mejoraron la métrica F1, pero el oversampling mostró mejores resultados globales.  \n",
    "\n",
    "4. **Modelo final seleccionado:**  \n",
    "   - **Random Forest con Oversampling** fue el mejor modelo.  \n",
    "   - Resultados en conjunto de prueba:  \n",
    "     - **F1:** 0.611  \n",
    "     - **AUC-ROC:** 0.860  \n",
    "   - El modelo supera el umbral de desempeño requerido (F1 ≥ 0.59), demostrando robustez y generalización en datos no vistos.  \n",
    "\n",
    "---\n",
    "\n",
    "### 🚀 Recomendaciones\n",
    "\n",
    "1. **Implementación:**  \n",
    "   Adoptar el modelo de **Random Forest con Oversampling** como sistema de predicción de churn en Beta Bank.  \n",
    "\n",
    "2. **Mejoras futuras:**  \n",
    "   - Realizar un ajuste más profundo de hiperparámetros con técnicas avanzadas (Grid Search o Random Search).  \n",
    "   - Incluir nuevas variables que puedan enriquecer la predicción (ejemplo: historial de interacciones con el banco, productos contratados recientemente, nivel de satisfacción del cliente).  \n",
    "   - Evaluar técnicas más avanzadas de balanceo como **SMOTE**.  \n",
    "   - Probar algoritmos más complejos como Gradient Boosting o XGBoost.  \n",
    "\n",
    "3. **Impacto esperado:**  \n",
    "   - Identificar clientes con alta probabilidad de abandono.  \n",
    "   - Diseñar estrategias de retención personalizadas.  \n",
    "   - Optimizar los recursos de marketing y fidelización, enfocándose en los clientes en mayor riesgo."
   ]
  }
 ],
 "metadata": {
  "kernelspec": {
   "display_name": "tp-sprint-10",
   "language": "python",
   "name": "python3"
  },
  "language_info": {
   "codemirror_mode": {
    "name": "ipython",
    "version": 3
   },
   "file_extension": ".py",
   "mimetype": "text/x-python",
   "name": "python",
   "nbconvert_exporter": "python",
   "pygments_lexer": "ipython3",
   "version": "3.12.11"
  }
 },
 "nbformat": 4,
 "nbformat_minor": 5
}
